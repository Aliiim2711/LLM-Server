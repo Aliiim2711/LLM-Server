{
 "cells": [
  {
   "cell_type": "code",
   "execution_count": null,
   "id": "f1b555b4",
   "metadata": {},
   "outputs": [],
   "source": [
    "import os\n",
    "import json\n",
    "import re\n",
    "from groq import Groq\n",
    "\n",
    "# Initialize the client with API key from environment variable\n",
    "client = Groq(\n",
    "    api_key=os.getenv(\"GROQ_API_KEY\"),\n",
    ")\n",
    "\n",
    "# Modify the prompt to request JSON output\n",
    "chat_completion = client.chat.completions.create(\n",
    "    messages=[\n",
    "        {\n",
    "            \"role\": \"user\",\n",
    "            \"content\": (\n",
    "                \"Explain the importance of fast language models. \"\n",
    "                \"Provide the answer in JSON format with keys 'summary', 'benefits', and 'applications'.\"\n",
    "            ),\n",
    "        }\n",
    "    ],\n",
    "    model=\"llama3-8b-8192\",\n",
    ")\n",
    "\n",
    "content = chat_completion.choices[0].message.content\n",
    "\n",
    "# Use regex to extract JSON content in case there is extra text\n",
    "json_match = re.search(r'\\{.*\\}', content, re.DOTALL)\n",
    "\n",
    "if json_match:\n",
    "    json_content = json_match.group()\n",
    "    try:\n",
    "        data = json.loads(json_content)\n",
    "        print(json.dumps(data, indent=4))\n",
    "    except json.JSONDecodeError as e:\n",
    "        print(\"Failed to parse JSON:\", e)\n",
    "        print(\"Content was:\", json_content)\n",
    "else:\n",
    "    print(\"No JSON content found in the response.\")\n"
   ]
  }
 ],
 "metadata": {
  "language_info": {
   "name": "python"
  }
 },
 "nbformat": 4,
 "nbformat_minor": 5
}
